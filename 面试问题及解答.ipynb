{
 "cells": [
  {
   "cell_type": "markdown",
   "metadata": {},
   "source": [
    "机器学习中的 error metrics；"
   ]
  },
  {
   "cell_type": "markdown",
   "metadata": {},
   "source": [
    "[kaggle 各种评价指标之一 :Error Metrics for Regression Problems 回归问题错误度量](http://blog.csdn.net/zdcs/article/details/54313489)"
   ]
  },
  {
   "cell_type": "markdown",
   "metadata": {},
   "source": [
    "Confusion matrix，训练模型时，如何加大对“FP”的惩罚；"
   ]
  },
  {
   "cell_type": "markdown",
   "metadata": {},
   "source": [
    "[TP、TN、FP、FN解释说明](http://blog.csdn.net/guyubit/article/details/52276013)"
   ]
  },
  {
   "cell_type": "markdown",
   "metadata": {},
   "source": [
    "在分类中如何处理训练集中不平衡问题"
   ]
  },
  {
   "cell_type": "markdown",
   "metadata": {},
   "source": [
    "[.](http://blog.csdn.net/heyongluoyao8/article/details/49408131)"
   ]
  },
  {
   "cell_type": "markdown",
   "metadata": {},
   "source": [
    "LR有没有解析解；"
   ]
  },
  {
   "cell_type": "markdown",
   "metadata": {},
   "source": [
    "随机森林模型可以输出每个特征的importance，这是如何实现的；"
   ]
  },
  {
   "cell_type": "markdown",
   "metadata": {},
   "source": [
    "给定数据集，如何选择使用哪个算法？或者说，LR、随机森林等模型分别适用于什么样的数据？"
   ]
  },
  {
   "cell_type": "markdown",
   "metadata": {},
   "source": [
    "打标签的样本数据太少，并且二分类的标签有倾斜。用该样本训练出的模型，对线上新数据的预测效果可能有很大的偏差，该如何解决？（面试官说业界有几种通用的办法）"
   ]
  },
  {
   "cell_type": "markdown",
   "metadata": {},
   "source": [
    "[处理标签大量缺失](https://www.zhihu.com/question/36354618)"
   ]
  },
  {
   "cell_type": "code",
   "execution_count": null,
   "metadata": {
    "collapsed": true
   },
   "outputs": [],
   "source": []
  }
 ],
 "metadata": {
  "kernelspec": {
   "display_name": "Python 3",
   "language": "python",
   "name": "python3"
  },
  "language_info": {
   "codemirror_mode": {
    "name": "ipython",
    "version": 3
   },
   "file_extension": ".py",
   "mimetype": "text/x-python",
   "name": "python",
   "nbconvert_exporter": "python",
   "pygments_lexer": "ipython3",
   "version": "3.5.2"
  }
 },
 "nbformat": 4,
 "nbformat_minor": 2
}
