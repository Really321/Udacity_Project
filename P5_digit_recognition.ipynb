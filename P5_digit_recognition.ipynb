{
 "cells": [
  {
   "cell_type": "markdown",
   "metadata": {},
   "source": [
    "# 机器学习工程师纳米学位\n",
    "## 深度学习\n",
    "## 项目：搭建一个数字识别项目\n",
    "\n",
    "在此文件中，我们提供给你了一个模板，以便于你根据项目的要求一步步实现要求的功能，进而完成整个项目。如果你认为需要导入另外的一些代码，请确保你正确导入了他们，并且包含在你的提交文件中。以**'练习'**开始的标题表示接下来你将开始实现你的项目。注意有一些练习是可选的，并且用**'可选'**标记出来了。\n",
    "\n",
    "在此文件中，有些示例代码已经提供给你，但你还需要实现更多的功能让项目成功运行。除非有明确要求，你无须修改任何已给出的代码。以'练习'开始的标题表示接下来的代码部分中有你必须要实现的功能。每一部分都会有详细的指导，需要实现的部分也会在注释中以'TODO'标出。请仔细阅读所有的提示！\n",
    "\n",
    "除了实现代码外，你还必须回答一些与项目和你的实现有关的问题。每一个需要你回答的问题都会以**'问题 X'**为标题。请仔细阅读每个问题，并且在问题后的**'回答'**文字框中写出完整的答案。我们将根据你对问题的回答和撰写代码所实现的功能来对你提交的项目进行评分。\n",
    "\n",
    ">**注意：** Code 和 Markdown 区域可通过 **Shift + Enter** 快捷键运行。此外，Markdown可以通过双击进入编辑模式。"
   ]
  },
  {
   "cell_type": "markdown",
   "metadata": {},
   "source": [
    "## 连接 mnist 的字符来合成数据\n",
    "\n",
    "你可以通过连接[MNIST](http://yann.lecun.com/exdb/mnist/)的字符来合成数据来训练这个模型。为了快速导入数据集，我们可以使用 [Keras Datasets](https://keras.io/datasets/#mnist-database-of-handwritten-digits) [中文文档](http://keras-cn.readthedocs.io/en/latest/other/datasets/#mnist)。"
   ]
  },
  {
   "cell_type": "markdown",
   "metadata": {},
   "source": [
    "### 载入 mnist"
   ]
  },
  {
   "cell_type": "code",
   "execution_count": 1,
   "metadata": {},
   "outputs": [
    {
     "name": "stderr",
     "output_type": "stream",
     "text": [
      "Using TensorFlow backend.\n"
     ]
    }
   ],
   "source": [
    "from keras.datasets import mnist\n",
    "from sklearn.model_selection import train_test_split\n",
    "\n",
    "(X_raw, y_raw), (X_raw_test, y_raw_test) = mnist.load_data()\n",
    "X_raw, X_new, y_raw, y_new = train_test_split(\n",
    "        X_raw, y_raw, test_size=0.8, random_state=42)\n",
    "\n",
    "n_train, n_test = X_raw.shape[0], X_raw_test.shape[0]"
   ]
  },
  {
   "cell_type": "markdown",
   "metadata": {},
   "source": [
    "### 可视化 mnist\n",
    "\n",
    "我们可以通过 matplotlib 来可视化我们的原始数据集。"
   ]
  },
  {
   "cell_type": "code",
   "execution_count": 2,
   "metadata": {
    "collapsed": true
   },
   "outputs": [],
   "source": [
    "import numpy as np\n",
    "import math"
   ]
  },
  {
   "cell_type": "code",
   "execution_count": 3,
   "metadata": {},
   "outputs": [
    {
     "data": {
      "image/png": "[encoded data removed]",
      "text/plain": [
       "<matplotlib.figure.Figure at 0x18943e68400>"
      ]
     },
     "metadata": {
      "image/png": {
       "height": 257,
       "width": 370
      }
     },
     "output_type": "display_data"
    }
   ],
   "source": [
    "import matplotlib.pyplot as plt\n",
    "import random\n",
    "\n",
    "%matplotlib inline\n",
    "%config InlineBackend.figure_format = 'retina'\n",
    "\n",
    "for i in range(15):\n",
    "    plt.subplot(3, 5, i+1)\n",
    "    index = random.randint(0, n_train-1)\n",
    "    plt.title(str(y_raw[index]))#每幅图像对应的target\n",
    "    plt.imshow(X_raw[index], cmap='gray')\n",
    "    plt.axis('off')#删除座标轴和刻度"
   ]
  },
  {
   "cell_type": "markdown",
   "metadata": {},
   "source": [
    "### 练习：合成数据\n",
    "\n",
    "你需要随机取随机张图片，然后将它们拼接成新的图片。\n",
    "\n",
    "你需要设置20%的数据作为验证集，以保证模型没有过拟合。"
   ]
  },
  {
   "cell_type": "code",
   "execution_count": 4,
   "metadata": {},
   "outputs": [
    {
     "name": "stdout",
     "output_type": "stream",
     "text": [
      "X_train shape: (9600, 28, 140, 1)\n",
      "X_valid shape: (2400, 28, 140, 1)\n",
      "X_test shape: (10000, 28, 140, 1)\n"
     ]
    }
   ],
   "source": [
    "import numpy as np\n",
    "from sklearn.model_selection import train_test_split\n",
    "\n",
    "n_class, n_len, width, height = 11, 5, 28, 28\n",
    "\n",
    "def generate_dataset(X, y):\n",
    "    X_len = X.shape[0] #0:index;1,2:height,width\n",
    "    \n",
    "    X_gen = np.zeros((X_len, height, width*n_len, 1), dtype=np.uint8) #这里的1代表了图像通道。\n",
    "    y_gen = [np.zeros((X_len, n_class), dtype=np.uint8) for i in range(n_len)]\n",
    "    # TODO: 随机取1~5个数字，并拼接成新的图片\n",
    "    n_digit = random.randint(1, 6)\n",
    "    for j in range(X_len):#j取出影像的index\n",
    "        n_digit = random.randint(1, 5)\n",
    "        for i in range(n_digit):\n",
    "            index = random.randint(0, X_len - 1)\n",
    "            image = X[index]#获取影像图\n",
    "            label = y[index]#获取影像的target\n",
    "            X_gen[j][:, i*width:(1+i)*width,0] = image# \n",
    "            y_gen[i][j][label] = 1\n",
    "        \n",
    "        for i in range(n_digit, n_len):\n",
    "            y_gen[i][j][10] = 1\n",
    "    return X_gen, y_gen\n",
    "\n",
    "X_raw_train, X_raw_valid, y_raw_train, y_raw_valid = train_test_split(\n",
    "        X_raw, y_raw, test_size=0.2, random_state=42)\n",
    "\n",
    "X_train, y_train = generate_dataset(X_raw_train, y_raw_train)\n",
    "X_valid, y_valid = generate_dataset(X_raw_valid, y_raw_valid)\n",
    "X_test, y_test = generate_dataset(X_raw_test, y_raw_test)\n",
    "print (\"X_train shape:\",X_train.shape)\n",
    "print (\"X_valid shape:\",X_valid.shape)\n",
    "print (\"X_test shape:\" ,X_test.shape)"
   ]
  },
  {
   "cell_type": "markdown",
   "metadata": {},
   "source": [
    "### 数据归一化"
   ]
  },
  {
   "cell_type": "code",
   "execution_count": 5,
   "metadata": {
    "collapsed": true
   },
   "outputs": [],
   "source": [
    "X_train = X_train/255\n",
    "#y_train = y_train/255,\n",
    "X_valid = X_valid/255\n",
    "#y_valid = y_valid/255,\n",
    "X_test = X_test/255\n",
    "#y_test = y_test/255,"
   ]
  },
  {
   "cell_type": "code",
   "execution_count": 6,
   "metadata": {},
   "outputs": [
    {
     "data": {
      "image/png": "[encoded data removed]",
      "text/plain": [
       "<matplotlib.figure.Figure at 0x18945de8a90>"
      ]
     },
     "metadata": {
      "image/png": {
       "height": 246,
       "width": 370
      }
     },
     "output_type": "display_data"
    }
   ],
   "source": [
    "# 显示生成的图片\n",
    "for i in range(15):\n",
    "    plt.subplot(5, 3, i+1)\n",
    "    index = random.randint(0, n_test-1)\n",
    "    title = ''\n",
    "    for j in range(n_len):\n",
    "        title += str(np.argmax(y_test[j][index])) + ','\n",
    "    \n",
    "    plt.title(title)\n",
    "    plt.imshow(X_test[index][:,:,0], cmap='gray')#X_test[index]是取得影像的位置，[：,：,0]中的0指的是image的channel\n",
    "    plt.axis('off')"
   ]
  },
  {
   "cell_type": "markdown",
   "metadata": {},
   "source": [
    "### 问题 1\n",
    "_你是如何合成数据集的？，为什么要分训练集，验证集和测试集？_\n",
    "\n",
    "**回答：**  \n",
    "  - 通过定义要随机取出的最大数量n_digit和for循环，随机取出i个图像；  \n",
    "  - 通过定义index，可以在给定的输入数据数目X.shape[0]范围内随机选取一幅影像的index；  \n",
    "  - 使用10填充空白数字  \n",
    "  - 参考了[stackoverflow](https://stackoverflow.com/questions/44067454/reshaping-image-array-n-width-height-to-n-height-width-channel)的代码编写，代码更加简洁和高效。  \n",
    "训练集对构造的模型进行训练，找寻合适的参数，验证集测试我们训练出的模型的准确度，判断是否过拟合或欠拟合，进行改进；测试集保证了我们的模型具有泛化能力。"
   ]
  },
  {
   "cell_type": "markdown",
   "metadata": {},
   "source": [
    "### 练习：设计并测试一个模型架构\n",
    "\n",
    "设计并实现一个能够识别数字序列的深度学习模型。为了产生用于测试的合成数字序列，你可以进行如下的设置：比如，你可以限制一个数据序列最多五个数字，并在你的深度网络上使用五个分类器。同时，你有必要准备一个额外的“空白”的字符，以处理相对较短的数字序列。\n",
    "\n",
    "在思考这个问题的时候有很多方面可以考虑：\n",
    "\n",
    "- 你的模型可以基于深度神经网络或者是卷积神经网络。\n",
    "- 你可以尝试是否在每个分类器间共享权值。\n",
    "- 你还可以在深度神经网络中使用循环网络来替换其中的分类层，并且将数字序列里的数字一个一个地输出。\n",
    "\n",
    "在使用 Keras 搭建模型的时候，你可以使用 [泛型模型](http://keras-cn.readthedocs.io/en/latest/models/model/) 的方式来搭建多输出模型。"
   ]
  },
  {
   "cell_type": "code",
   "execution_count": 7,
   "metadata": {
    "collapsed": true
   },
   "outputs": [],
   "source": [
    "from keras.models import Model\n",
    "from keras.layers import Input, Conv2D, MaxPooling2D, Flatten, Dropout, Dense, Merge\n"
   ]
  },
  {
   "cell_type": "code",
   "execution_count": 8,
   "metadata": {},
   "outputs": [
    {
     "data": {
      "text/plain": [
       "<bound method Container.summary of <keras.engine.training.Model object at 0x00000189470B8B70>>"
      ]
     },
     "execution_count": 8,
     "metadata": {},
     "output_type": "execute_result"
    }
   ],
   "source": [
    "#建立泛型模型\n",
    "inputs = Input(shape=(28,140,1))\n",
    "\n",
    "# block 1\n",
    "x = Conv2D(64,(3, 3), activation='relu', padding='same', name='block1_conv1')(inputs)\n",
    "x = Conv2D(64,(3, 3), activation='relu', padding='same', name='block1_conv2')(x)\n",
    "x = MaxPooling2D((2, 2), strides=(2, 2), name='block1_pool')(x)\n",
    "\n",
    "# block 2\n",
    "x = Conv2D(128,(3, 3), activation='relu', padding='same', name='block2_conv1')(x)\n",
    "x = Conv2D(128,(3, 3), activation='relu', padding='same', name='block2_conv2')(x)\n",
    "x = MaxPooling2D((2, 2), strides=(2, 2), padding='same', name='block2_pool')(x)\n",
    "\n",
    "# block 3\n",
    "# x = Conv2D(256, (3, 3), activation='relu', padding='same', name='block3_conv1')(x)\n",
    "# x = Conv2D(256, (3, 3), activation='relu', padding='same', name='block3_conv2')(x)\n",
    "# x = Conv2D(256, (3, 3), activation='relu', padding='same', name='block3_conv3')(x)\n",
    "# x = MaxPooling2D((2, 2), strides=(2, 2), name='block3_pool')(x)\n",
    "\n",
    "# Block 4\n",
    "# x = Conv2D(512, (3, 3), activation='relu', padding='same', name='block4_conv1')(x)\n",
    "# x = Conv2D(512, (3, 3), activation='relu', padding='same', name='block4_conv2')(x)\n",
    "# x = Conv2D(512, (3, 3), activation='relu', padding='same', name='block4_conv3')(x)\n",
    "# x = MaxPooling2D((2, 2), strides=(2, 2), name='block4_pool')(x)\n",
    "\n",
    "# Block 5\n",
    "# x = Conv2D(512, (3, 3), activation='relu', padding='same', name='block5_conv1')(x)\n",
    "# x = Conv2D(512, (3, 3), activation='relu', padding='same', name='block5_conv2')(x)\n",
    "# x = Conv2D(512, (3, 3), activation='relu', padding='same', name='block5_conv3')(x)\n",
    "# x = MaxPooling2D((2, 2), strides=(2, 2), name='block5_pool')(x)\n",
    "\n",
    "# Classification block\n",
    "x = Flatten(name='flatten')(x)\n",
    "x = Dense(500, activation='relu', name='fc1')(x)#全连接层的作用是把多种预测转换为分类（上一位导师说这种说法是错误的，经过查阅资料，现在更正为：\n",
    "          #全连接层则起到将学到的“分布式特征表示”映射到样本标记空间的作用 ）\n",
    "# x = Dense(4096, activation='relu', name='fc2')(x)#此处为什么要构造两次？\n",
    "x = Dropout(0.5)(x)\n",
    "\n",
    "# num_1 = Dense(11, activation='softmax')(x)\n",
    "# num_2 = Dense(11, activation='softmax')(x)\n",
    "# num_3 = Dense(11, activation='softmax')(x)\n",
    "# num_4 = Dense(11, activation='softmax')(x)\n",
    "# num_5 = Dense(11, activation='softmax')(x)\n",
    "\n",
    "outputs = [Dense(n_class, activation='softmax')(x) for i in range(5)]\n",
    "\n",
    "model=Model(inputs=inputs,outputs=outputs)\n",
    "model.summary"
   ]
  },
  {
   "cell_type": "markdown",
   "metadata": {},
   "source": [
    "### 问题 2\n",
    "_你为解决这个问题采取了什么技术？请详细介绍你使用的技术。_\n",
    "\n",
    "**回答：** 我采用了CNN（卷积神经网络）技术。  \n",
    "\n",
    "在CNN模型的搭建过程中，主要涉及到的技术包括：    \n",
    "- **输入层（input layer）**  \n",
    "定义了输入模型的图像尺寸，包含（长、宽、通道）。本文中由于是把5个图像拼合为一个，因此宽会增加4倍，且本模型中输入图像为灰度图像，因此通道为1，所以输入的shape为（28，140，1）\n",
    "- **卷积层（Convolutional layer）**  \n",
    "卷积层主要是通过过滤器（filter）对图像进行卷积运算，根据多个过滤器生成多个特征图（feature maps），对一个特征图来说，每个神经元对应的权值（weights），在一个特征图之内是共享的，相应的偏差（bias）也是共享的，这就大大减少了参数数量，与下文中提到的**池化层**结合，使得图像具有了传递不变性,，就像图片中是一只猫，如果移动到图片中不同的位置，结果仍旧是猫。过滤器定义为（64，3×3）  \n",
    "- **Relu**  \n",
    ">如果没有激活机制，信号的传递和网络训练将消耗巨大。ReLU激活函数使得神经元低于阈值时处于沉默状态。ReLU相对于Sigmoid一方面大大降低运算；另一方面在输入信号较强时，仍然能够保留信号之间的差别。  \n",
    "\n",
    "也就是在卷积运算过程中，ReLU函数会根据阈值对卷积运算结果进行筛选，小于阈值的记为0，大于阈值的保留，这可以使得卷积运算结果具有稀疏性，进而增加运算的精确度，减小运算资源耗费。而ReLU函数为非线性，经过ReLU函数的激活，神经网络具有了非线性，也就能够拟合和逼近目标函数。\n",
    "- **池化(pooling layer)**  \n",
    "池化层紧跟在卷积层之后，实现简化卷积层输出中的信息。主要是进一步压缩特征，并提取feature maps中的主要特征。\n",
    "\n",
    "- **全连接层(fully connected layers)**  \n",
    "全连接层是与前一层中的所有激活数据是全部连接的，计算资源中大部分的内存和计算时间都被前面的卷积层占用，而大部分的参数都用在后面的全连接层，并且如果存在多层全连接层，第一个全连接层占用的参数会是比较大的比例。后来有模型（GoogleNet）采用平均汇聚代替了全连接层，也取得了类似的准确度，证明了全连接层在模型中也并非是不可或缺的。去掉全连接层可以显著减少模型参数的数量。\n",
    "\n",
    "\n",
    "- **Dropout**  \n",
    "Dropout是为了减少参与计算的参数数量且不会对结果精度有较大影响，会以选定的值[0,1]为概率，使得每一轮中每一个神经元都有对应的概率值不参与计算，通过多轮训练，更新权重。  \n",
    ">因此dropout减少了神经元之间复杂的共适应关系，迫使网络学习更加鲁棒的特征\n",
    "\n",
    "- **Softmax**  \n",
    "[softmax回归](http://ufldl.stanford.edu/wiki/index.php/Softmax%E5%9B%9E%E5%BD%92)具有的特殊性使得它只用于最后一层，因为softmax是多输入多输出，而其他激活函数是单输入单输出。softmax回归与logistic回归做对比，logistic回归解决的是二分类的问题。发现一个有意思的例子，对K个类型进行分类，怎么选择softmax分类器和K个独立的二元分类器。主要取决于K个分类之间是否互斥。如果互斥，则选择softmax分类，如果不是互斥的，可以互相包含，则选择logistic回归。\n",
    "- **categorical_crossentropy**  \n",
    "categorical_crossentropy与binary_crossentropy分别对应softmax和sigmoid的损失函数\n",
    "- **adam**  \n",
    "[深度学习最全优化方法总结比较](https://zhuanlan.zhihu.com/p/22252270)  \n",
    "> Adam(Adaptive Moment Estimation)本质上是带有动量项的RMSprop，它利用梯度的一阶矩估计和二阶矩估计动态调整每个参数的学习率。Adam的优点主要在于经过偏置校正后，每一次迭代学习率都有个确定范围，使得参数比较平稳。  \n",
    " 特点：  \n",
    " 结合了Adagrad善于处理稀疏梯度和RMSprop善于处理非平稳目标的优点  \n",
    " 对内存需求较小  \n",
    " 为不同的参数计算不同的自适应学习率  \n",
    " 也适用于大多非凸优化 - 适用于大数据集和高维空间  \n",
    "\n",
    "CNN 可能有几层网络，每个层可能捕获对象抽象层次中的不同级别。第一层是抽象层次的最底级，CNN 一般把图片中的较小的部分识别成简单的形状，例如水平、竖直的直线，简单的色块。下一层将会上升到更高的抽象层次，一般会识别更复杂的概念，例如形状（线的组合），以此类推直至最后由CNN分类器把这些复杂的层综合起来进行识别图片。CNN是通过正向和反向传导，自己学习识别图片上物体，不需要设定所需识别物体的特征，这也是与传统的机器学习区别较大的部分。"
   ]
  },
  {
   "cell_type": "markdown",
   "metadata": {},
   "source": [
    "### 可视化你的网络模型\n",
    "\n",
    "参考链接：[visualization](http://keras-cn.readthedocs.io/en/latest/other/visualization/)\n",
    "\n",
    "可以是 PNG 格式，也可以是 SVG 格式。"
   ]
  },
  {
   "cell_type": "code",
   "execution_count": 9,
   "metadata": {},
   "outputs": [
    {
     "data": {
      "image/svg+xml": [
       "<svg height=\"885pt\" viewBox=\"0.00 0.00 1295.00 885.00\" width=\"1295pt\" xmlns=\"http://www.w3.org/2000/svg\" xmlns:xlink=\"http://www.w3.org/1999/xlink\">\n",
       "<g class=\"graph\" id=\"graph0\" transform=\"scale(1 1) rotate(0) translate(4 881)\">\n",
       "<title>G</title>\n",
       "<polygon fill=\"white\" points=\"-4,4 -4,-881 1291,-881 1291,4 -4,4\" stroke=\"none\"/>\n",
       "<!-- 1689116880736 -->\n",
       "<g class=\"node\" id=\"node1\"><title>1689116880736</title>\n",
       "<polygon fill=\"none\" points=\"493,-830.5 493,-876.5 794,-876.5 794,-830.5 493,-830.5\" stroke=\"black\"/>\n",
       "<text font-family=\"Times New Roman,serif\" font-size=\"14.00\" text-anchor=\"middle\" x=\"556\" y=\"-849.8\">input_1: InputLayer</text>\n",
       "<polyline fill=\"none\" points=\"619,-830.5 619,-876.5 \" stroke=\"black\"/>\n",
       "<text font-family=\"Times New Roman,serif\" font-size=\"14.00\" text-anchor=\"middle\" x=\"647\" y=\"-861.3\">input:</text>\n",
       "<polyline fill=\"none\" points=\"619,-853.5 675,-853.5 \" stroke=\"black\"/>\n",
       "<text font-family=\"Times New Roman,serif\" font-size=\"14.00\" text-anchor=\"middle\" x=\"647\" y=\"-838.3\">output:</text>\n",
       "<polyline fill=\"none\" points=\"675,-830.5 675,-876.5 \" stroke=\"black\"/>\n",
       "<text font-family=\"Times New Roman,serif\" font-size=\"14.00\" text-anchor=\"middle\" x=\"734.5\" y=\"-861.3\">(None, 28, 140, 1)</text>\n",
       "<polyline fill=\"none\" points=\"675,-853.5 794,-853.5 \" stroke=\"black\"/>\n",
       "<text font-family=\"Times New Roman,serif\" font-size=\"14.00\" text-anchor=\"middle\" x=\"734.5\" y=\"-838.3\">(None, 28, 140, 1)</text>\n",
       "</g>\n",
       "<!-- 1689116880344 -->\n",
       "<g class=\"node\" id=\"node2\"><title>1689116880344</title>\n",
       "<polygon fill=\"none\" points=\"477.5,-747.5 477.5,-793.5 809.5,-793.5 809.5,-747.5 477.5,-747.5\" stroke=\"black\"/>\n",
       "<text font-family=\"Times New Roman,serif\" font-size=\"14.00\" text-anchor=\"middle\" x=\"553\" y=\"-766.8\">block1_conv1: Conv2D</text>\n",
       "<polyline fill=\"none\" points=\"628.5,-747.5 628.5,-793.5 \" stroke=\"black\"/>\n",
       "<text font-family=\"Times New Roman,serif\" font-size=\"14.00\" text-anchor=\"middle\" x=\"656.5\" y=\"-778.3\">input:</text>\n",
       "<polyline fill=\"none\" points=\"628.5,-770.5 684.5,-770.5 \" stroke=\"black\"/>\n",
       "<text font-family=\"Times New Roman,serif\" font-size=\"14.00\" text-anchor=\"middle\" x=\"656.5\" y=\"-755.3\">output:</text>\n",
       "<polyline fill=\"none\" points=\"684.5,-747.5 684.5,-793.5 \" stroke=\"black\"/>\n",
       "<text font-family=\"Times New Roman,serif\" font-size=\"14.00\" text-anchor=\"middle\" x=\"747\" y=\"-778.3\">(None, 28, 140, 1)</text>\n",
       "<polyline fill=\"none\" points=\"684.5,-770.5 809.5,-770.5 \" stroke=\"black\"/>\n",
       "<text font-family=\"Times New Roman,serif\" font-size=\"14.00\" text-anchor=\"middle\" x=\"747\" y=\"-755.3\">(None, 28, 140, 64)</text>\n",
       "</g>\n",
       "<!-- 1689116880736&#45;&gt;1689116880344 -->\n",
       "<g class=\"edge\" id=\"edge1\"><title>1689116880736-&gt;1689116880344</title>\n",
       "<path d=\"M643.5,-830.366C643.5,-822.152 643.5,-812.658 643.5,-803.725\" fill=\"none\" stroke=\"black\"/>\n",
       "<polygon fill=\"black\" points=\"647,-803.607 643.5,-793.607 640,-803.607 647,-803.607\" stroke=\"black\"/>\n",
       "</g>\n",
       "<!-- 1689111793616 -->\n",
       "<g class=\"node\" id=\"node3\"><title>1689111793616</title>\n",
       "<polygon fill=\"none\" points=\"477.5,-664.5 477.5,-710.5 809.5,-710.5 809.5,-664.5 477.5,-664.5\" stroke=\"black\"/>\n",
       "<text font-family=\"Times New Roman,serif\" font-size=\"14.00\" text-anchor=\"middle\" x=\"553\" y=\"-683.8\">block1_conv2: Conv2D</text>\n",
       "<polyline fill=\"none\" points=\"628.5,-664.5 628.5,-710.5 \" stroke=\"black\"/>\n",
       "<text font-family=\"Times New Roman,serif\" font-size=\"14.00\" text-anchor=\"middle\" x=\"656.5\" y=\"-695.3\">input:</text>\n",
       "<polyline fill=\"none\" points=\"628.5,-687.5 684.5,-687.5 \" stroke=\"black\"/>\n",
       "<text font-family=\"Times New Roman,serif\" font-size=\"14.00\" text-anchor=\"middle\" x=\"656.5\" y=\"-672.3\">output:</text>\n",
       "<polyline fill=\"none\" points=\"684.5,-664.5 684.5,-710.5 \" stroke=\"black\"/>\n",
       "<text font-family=\"Times New Roman,serif\" font-size=\"14.00\" text-anchor=\"middle\" x=\"747\" y=\"-695.3\">(None, 28, 140, 64)</text>\n",
       "<polyline fill=\"none\" points=\"684.5,-687.5 809.5,-687.5 \" stroke=\"black\"/>\n",
       "<text font-family=\"Times New Roman,serif\" font-size=\"14.00\" text-anchor=\"middle\" x=\"747\" y=\"-672.3\">(None, 28, 140, 64)</text>\n",
       "</g>\n",
       "<!-- 1689116880344&#45;&gt;1689111793616 -->\n",
       "<g class=\"edge\" id=\"edge2\"><title>1689116880344-&gt;1689111793616</title>\n",
       "<path d=\"M643.5,-747.366C643.5,-739.152 643.5,-729.658 643.5,-720.725\" fill=\"none\" stroke=\"black\"/>\n",
       "<polygon fill=\"black\" points=\"647,-720.607 643.5,-710.607 640,-720.607 647,-720.607\" stroke=\"black\"/>\n",
       "</g>\n",
       "<!-- 1689114585632 -->\n",
       "<g class=\"node\" id=\"node4\"><title>1689114585632</title>\n",
       "<polygon fill=\"none\" points=\"463.5,-581.5 463.5,-627.5 823.5,-627.5 823.5,-581.5 463.5,-581.5\" stroke=\"black\"/>\n",
       "<text font-family=\"Times New Roman,serif\" font-size=\"14.00\" text-anchor=\"middle\" x=\"553\" y=\"-600.8\">block1_pool: MaxPooling2D</text>\n",
       "<polyline fill=\"none\" points=\"642.5,-581.5 642.5,-627.5 \" stroke=\"black\"/>\n",
       "<text font-family=\"Times New Roman,serif\" font-size=\"14.00\" text-anchor=\"middle\" x=\"670.5\" y=\"-612.3\">input:</text>\n",
       "<polyline fill=\"none\" points=\"642.5,-604.5 698.5,-604.5 \" stroke=\"black\"/>\n",
       "<text font-family=\"Times New Roman,serif\" font-size=\"14.00\" text-anchor=\"middle\" x=\"670.5\" y=\"-589.3\">output:</text>\n",
       "<polyline fill=\"none\" points=\"698.5,-581.5 698.5,-627.5 \" stroke=\"black\"/>\n",
       "<text font-family=\"Times New Roman,serif\" font-size=\"14.00\" text-anchor=\"middle\" x=\"761\" y=\"-612.3\">(None, 28, 140, 64)</text>\n",
       "<polyline fill=\"none\" points=\"698.5,-604.5 823.5,-604.5 \" stroke=\"black\"/>\n",
       "<text font-family=\"Times New Roman,serif\" font-size=\"14.00\" text-anchor=\"middle\" x=\"761\" y=\"-589.3\">(None, 14, 70, 64)</text>\n",
       "</g>\n",
       "<!-- 1689111793616&#45;&gt;1689114585632 -->\n",
       "<g class=\"edge\" id=\"edge3\"><title>1689111793616-&gt;1689114585632</title>\n",
       "<path d=\"M643.5,-664.366C643.5,-656.152 643.5,-646.658 643.5,-637.725\" fill=\"none\" stroke=\"black\"/>\n",
       "<polygon fill=\"black\" points=\"647,-637.607 643.5,-627.607 640,-637.607 647,-637.607\" stroke=\"black\"/>\n",
       "</g>\n",
       "<!-- 1689116958168 -->\n",
       "<g class=\"node\" id=\"node5\"><title>1689116958168</title>\n",
       "<polygon fill=\"none\" points=\"477.5,-498.5 477.5,-544.5 809.5,-544.5 809.5,-498.5 477.5,-498.5\" stroke=\"black\"/>\n",
       "<text font-family=\"Times New Roman,serif\" font-size=\"14.00\" text-anchor=\"middle\" x=\"553\" y=\"-517.8\">block2_conv1: Conv2D</text>\n",
       "<polyline fill=\"none\" points=\"628.5,-498.5 628.5,-544.5 \" stroke=\"black\"/>\n",
       "<text font-family=\"Times New Roman,serif\" font-size=\"14.00\" text-anchor=\"middle\" x=\"656.5\" y=\"-529.3\">input:</text>\n",
       "<polyline fill=\"none\" points=\"628.5,-521.5 684.5,-521.5 \" stroke=\"black\"/>\n",
       "<text font-family=\"Times New Roman,serif\" font-size=\"14.00\" text-anchor=\"middle\" x=\"656.5\" y=\"-506.3\">output:</text>\n",
       "<polyline fill=\"none\" points=\"684.5,-498.5 684.5,-544.5 \" stroke=\"black\"/>\n",
       "<text font-family=\"Times New Roman,serif\" font-size=\"14.00\" text-anchor=\"middle\" x=\"747\" y=\"-529.3\">(None, 14, 70, 64)</text>\n",
       "<polyline fill=\"none\" points=\"684.5,-521.5 809.5,-521.5 \" stroke=\"black\"/>\n",
       "<text font-family=\"Times New Roman,serif\" font-size=\"14.00\" text-anchor=\"middle\" x=\"747\" y=\"-506.3\">(None, 14, 70, 128)</text>\n",
       "</g>\n",
       "<!-- 1689114585632&#45;&gt;1689116958168 -->\n",
       "<g class=\"edge\" id=\"edge4\"><title>1689114585632-&gt;1689116958168</title>\n",
       "<path d=\"M643.5,-581.366C643.5,-573.152 643.5,-563.658 643.5,-554.725\" fill=\"none\" stroke=\"black\"/>\n",
       "<polygon fill=\"black\" points=\"647,-554.607 643.5,-544.607 640,-554.607 647,-554.607\" stroke=\"black\"/>\n",
       "</g>\n",
       "<!-- 1689118920544 -->\n",
       "<g class=\"node\" id=\"node6\"><title>1689118920544</title>\n",
       "<polygon fill=\"none\" points=\"477.5,-415.5 477.5,-461.5 809.5,-461.5 809.5,-415.5 477.5,-415.5\" stroke=\"black\"/>\n",
       "<text font-family=\"Times New Roman,serif\" font-size=\"14.00\" text-anchor=\"middle\" x=\"553\" y=\"-434.8\">block2_conv2: Conv2D</text>\n",
       "<polyline fill=\"none\" points=\"628.5,-415.5 628.5,-461.5 \" stroke=\"black\"/>\n",
       "<text font-family=\"Times New Roman,serif\" font-size=\"14.00\" text-anchor=\"middle\" x=\"656.5\" y=\"-446.3\">input:</text>\n",
       "<polyline fill=\"none\" points=\"628.5,-438.5 684.5,-438.5 \" stroke=\"black\"/>\n",
       "<text font-family=\"Times New Roman,serif\" font-size=\"14.00\" text-anchor=\"middle\" x=\"656.5\" y=\"-423.3\">output:</text>\n",
       "<polyline fill=\"none\" points=\"684.5,-415.5 684.5,-461.5 \" stroke=\"black\"/>\n",
       "<text font-family=\"Times New Roman,serif\" font-size=\"14.00\" text-anchor=\"middle\" x=\"747\" y=\"-446.3\">(None, 14, 70, 128)</text>\n",
       "<polyline fill=\"none\" points=\"684.5,-438.5 809.5,-438.5 \" stroke=\"black\"/>\n",
       "<text font-family=\"Times New Roman,serif\" font-size=\"14.00\" text-anchor=\"middle\" x=\"747\" y=\"-423.3\">(None, 14, 70, 128)</text>\n",
       "</g>\n",
       "<!-- 1689116958168&#45;&gt;1689118920544 -->\n",
       "<g class=\"edge\" id=\"edge5\"><title>1689116958168-&gt;1689118920544</title>\n",
       "<path d=\"M643.5,-498.366C643.5,-490.152 643.5,-480.658 643.5,-471.725\" fill=\"none\" stroke=\"black\"/>\n",
       "<polygon fill=\"black\" points=\"647,-471.607 643.5,-461.607 640,-471.607 647,-471.607\" stroke=\"black\"/>\n",
       "</g>\n",
       "<!-- 1689118818712 -->\n",
       "<g class=\"node\" id=\"node7\"><title>1689118818712</title>\n",
       "<polygon fill=\"none\" points=\"463.5,-332.5 463.5,-378.5 823.5,-378.5 823.5,-332.5 463.5,-332.5\" stroke=\"black\"/>\n",
       "<text font-family=\"Times New Roman,serif\" font-size=\"14.00\" text-anchor=\"middle\" x=\"553\" y=\"-351.8\">block2_pool: MaxPooling2D</text>\n",
       "<polyline fill=\"none\" points=\"642.5,-332.5 642.5,-378.5 \" stroke=\"black\"/>\n",
       "<text font-family=\"Times New Roman,serif\" font-size=\"14.00\" text-anchor=\"middle\" x=\"670.5\" y=\"-363.3\">input:</text>\n",
       "<polyline fill=\"none\" points=\"642.5,-355.5 698.5,-355.5 \" stroke=\"black\"/>\n",
       "<text font-family=\"Times New Roman,serif\" font-size=\"14.00\" text-anchor=\"middle\" x=\"670.5\" y=\"-340.3\">output:</text>\n",
       "<polyline fill=\"none\" points=\"698.5,-332.5 698.5,-378.5 \" stroke=\"black\"/>\n",
       "<text font-family=\"Times New Roman,serif\" font-size=\"14.00\" text-anchor=\"middle\" x=\"761\" y=\"-363.3\">(None, 14, 70, 128)</text>\n",
       "<polyline fill=\"none\" points=\"698.5,-355.5 823.5,-355.5 \" stroke=\"black\"/>\n",
       "<text font-family=\"Times New Roman,serif\" font-size=\"14.00\" text-anchor=\"middle\" x=\"761\" y=\"-340.3\">(None, 7, 35, 128)</text>\n",
       "</g>\n",
       "<!-- 1689118920544&#45;&gt;1689118818712 -->\n",
       "<g class=\"edge\" id=\"edge6\"><title>1689118920544-&gt;1689118818712</title>\n",
       "<path d=\"M643.5,-415.366C643.5,-407.152 643.5,-397.658 643.5,-388.725\" fill=\"none\" stroke=\"black\"/>\n",
       "<polygon fill=\"black\" points=\"647,-388.607 643.5,-378.607 640,-388.607 647,-388.607\" stroke=\"black\"/>\n",
       "</g>\n",
       "<!-- 1689118992872 -->\n",
       "<g class=\"node\" id=\"node8\"><title>1689118992872</title>\n",
       "<polygon fill=\"none\" points=\"508.5,-249.5 508.5,-295.5 778.5,-295.5 778.5,-249.5 508.5,-249.5\" stroke=\"black\"/>\n",
       "<text font-family=\"Times New Roman,serif\" font-size=\"14.00\" text-anchor=\"middle\" x=\"556\" y=\"-268.8\">flatten: Flatten</text>\n",
       "<polyline fill=\"none\" points=\"603.5,-249.5 603.5,-295.5 \" stroke=\"black\"/>\n",
       "<text font-family=\"Times New Roman,serif\" font-size=\"14.00\" text-anchor=\"middle\" x=\"631.5\" y=\"-280.3\">input:</text>\n",
       "<polyline fill=\"none\" points=\"603.5,-272.5 659.5,-272.5 \" stroke=\"black\"/>\n",
       "<text font-family=\"Times New Roman,serif\" font-size=\"14.00\" text-anchor=\"middle\" x=\"631.5\" y=\"-257.3\">output:</text>\n",
       "<polyline fill=\"none\" points=\"659.5,-249.5 659.5,-295.5 \" stroke=\"black\"/>\n",
       "<text font-family=\"Times New Roman,serif\" font-size=\"14.00\" text-anchor=\"middle\" x=\"719\" y=\"-280.3\">(None, 7, 35, 128)</text>\n",
       "<polyline fill=\"none\" points=\"659.5,-272.5 778.5,-272.5 \" stroke=\"black\"/>\n",
       "<text font-family=\"Times New Roman,serif\" font-size=\"14.00\" text-anchor=\"middle\" x=\"719\" y=\"-257.3\">(None, 31360)</text>\n",
       "</g>\n",
       "<!-- 1689118818712&#45;&gt;1689118992872 -->\n",
       "<g class=\"edge\" id=\"edge7\"><title>1689118818712-&gt;1689118992872</title>\n",
       "<path d=\"M643.5,-332.366C643.5,-324.152 643.5,-314.658 643.5,-305.725\" fill=\"none\" stroke=\"black\"/>\n",
       "<polygon fill=\"black\" points=\"647,-305.607 643.5,-295.607 640,-305.607 647,-305.607\" stroke=\"black\"/>\n",
       "</g>\n",
       "<!-- 1689119175232 -->\n",
       "<g class=\"node\" id=\"node9\"><title>1689119175232</title>\n",
       "<polygon fill=\"none\" points=\"529,-166.5 529,-212.5 758,-212.5 758,-166.5 529,-166.5\" stroke=\"black\"/>\n",
       "<text font-family=\"Times New Roman,serif\" font-size=\"14.00\" text-anchor=\"middle\" x=\"567\" y=\"-185.8\">fc1: Dense</text>\n",
       "<polyline fill=\"none\" points=\"605,-166.5 605,-212.5 \" stroke=\"black\"/>\n",
       "<text font-family=\"Times New Roman,serif\" font-size=\"14.00\" text-anchor=\"middle\" x=\"633\" y=\"-197.3\">input:</text>\n",
       "<polyline fill=\"none\" points=\"605,-189.5 661,-189.5 \" stroke=\"black\"/>\n",
       "<text font-family=\"Times New Roman,serif\" font-size=\"14.00\" text-anchor=\"middle\" x=\"633\" y=\"-174.3\">output:</text>\n",
       "<polyline fill=\"none\" points=\"661,-166.5 661,-212.5 \" stroke=\"black\"/>\n",
       "<text font-family=\"Times New Roman,serif\" font-size=\"14.00\" text-anchor=\"middle\" x=\"709.5\" y=\"-197.3\">(None, 31360)</text>\n",
       "<polyline fill=\"none\" points=\"661,-189.5 758,-189.5 \" stroke=\"black\"/>\n",
       "<text font-family=\"Times New Roman,serif\" font-size=\"14.00\" text-anchor=\"middle\" x=\"709.5\" y=\"-174.3\">(None, 500)</text>\n",
       "</g>\n",
       "<!-- 1689118992872&#45;&gt;1689119175232 -->\n",
       "<g class=\"edge\" id=\"edge8\"><title>1689118992872-&gt;1689119175232</title>\n",
       "<path d=\"M643.5,-249.366C643.5,-241.152 643.5,-231.658 643.5,-222.725\" fill=\"none\" stroke=\"black\"/>\n",
       "<polygon fill=\"black\" points=\"647,-222.607 643.5,-212.607 640,-222.607 647,-222.607\" stroke=\"black\"/>\n",
       "</g>\n",
       "<!-- 1689117033192 -->\n",
       "<g class=\"node\" id=\"node10\"><title>1689117033192</title>\n",
       "<polygon fill=\"none\" points=\"509,-83.5 509,-129.5 778,-129.5 778,-83.5 509,-83.5\" stroke=\"black\"/>\n",
       "<text font-family=\"Times New Roman,serif\" font-size=\"14.00\" text-anchor=\"middle\" x=\"574\" y=\"-102.8\">dropout_1: Dropout</text>\n",
       "<polyline fill=\"none\" points=\"639,-83.5 639,-129.5 \" stroke=\"black\"/>\n",
       "<text font-family=\"Times New Roman,serif\" font-size=\"14.00\" text-anchor=\"middle\" x=\"667\" y=\"-114.3\">input:</text>\n",
       "<polyline fill=\"none\" points=\"639,-106.5 695,-106.5 \" stroke=\"black\"/>\n",
       "<text font-family=\"Times New Roman,serif\" font-size=\"14.00\" text-anchor=\"middle\" x=\"667\" y=\"-91.3\">output:</text>\n",
       "<polyline fill=\"none\" points=\"695,-83.5 695,-129.5 \" stroke=\"black\"/>\n",
       "<text font-family=\"Times New Roman,serif\" font-size=\"14.00\" text-anchor=\"middle\" x=\"736.5\" y=\"-114.3\">(None, 500)</text>\n",
       "<polyline fill=\"none\" points=\"695,-106.5 778,-106.5 \" stroke=\"black\"/>\n",
       "<text font-family=\"Times New Roman,serif\" font-size=\"14.00\" text-anchor=\"middle\" x=\"736.5\" y=\"-91.3\">(None, 500)</text>\n",
       "</g>\n",
       "<!-- 1689119175232&#45;&gt;1689117033192 -->\n",
       "<g class=\"edge\" id=\"edge9\"><title>1689119175232-&gt;1689117033192</title>\n",
       "<path d=\"M643.5,-166.366C643.5,-158.152 643.5,-148.658 643.5,-139.725\" fill=\"none\" stroke=\"black\"/>\n",
       "<polygon fill=\"black\" points=\"647,-139.607 643.5,-129.607 640,-139.607 647,-139.607\" stroke=\"black\"/>\n",
       "</g>\n",
       "<!-- 1689116984544 -->\n",
       "<g class=\"node\" id=\"node11\"><title>1689116984544</title>\n",
       "<polygon fill=\"none\" points=\"0,-0.5 0,-46.5 243,-46.5 243,-0.5 0,-0.5\" stroke=\"black\"/>\n",
       "<text font-family=\"Times New Roman,serif\" font-size=\"14.00\" text-anchor=\"middle\" x=\"52\" y=\"-19.8\">dense_1: Dense</text>\n",
       "<polyline fill=\"none\" points=\"104,-0.5 104,-46.5 \" stroke=\"black\"/>\n",
       "<text font-family=\"Times New Roman,serif\" font-size=\"14.00\" text-anchor=\"middle\" x=\"132\" y=\"-31.3\">input:</text>\n",
       "<polyline fill=\"none\" points=\"104,-23.5 160,-23.5 \" stroke=\"black\"/>\n",
       "<text font-family=\"Times New Roman,serif\" font-size=\"14.00\" text-anchor=\"middle\" x=\"132\" y=\"-8.3\">output:</text>\n",
       "<polyline fill=\"none\" points=\"160,-0.5 160,-46.5 \" stroke=\"black\"/>\n",
       "<text font-family=\"Times New Roman,serif\" font-size=\"14.00\" text-anchor=\"middle\" x=\"201.5\" y=\"-31.3\">(None, 500)</text>\n",
       "<polyline fill=\"none\" points=\"160,-23.5 243,-23.5 \" stroke=\"black\"/>\n",
       "<text font-family=\"Times New Roman,serif\" font-size=\"14.00\" text-anchor=\"middle\" x=\"201.5\" y=\"-8.3\">(None, 11)</text>\n",
       "</g>\n",
       "<!-- 1689117033192&#45;&gt;1689116984544 -->\n",
       "<g class=\"edge\" id=\"edge10\"><title>1689117033192-&gt;1689116984544</title>\n",
       "<path d=\"M508.674,-86.1687C435.672,-75.5106 343.657,-61.7703 253.16,-47.2544\" fill=\"none\" stroke=\"black\"/>\n",
       "<polygon fill=\"black\" points=\"253.703,-43.7969 243.274,-45.6647 252.592,-50.7081 253.703,-43.7969\" stroke=\"black\"/>\n",
       "</g>\n",
       "<!-- 1689113336352 -->\n",
       "<g class=\"node\" id=\"node12\"><title>1689113336352</title>\n",
       "<polygon fill=\"none\" points=\"261,-0.5 261,-46.5 504,-46.5 504,-0.5 261,-0.5\" stroke=\"black\"/>\n",
       "<text font-family=\"Times New Roman,serif\" font-size=\"14.00\" text-anchor=\"middle\" x=\"313\" y=\"-19.8\">dense_2: Dense</text>\n",
       "<polyline fill=\"none\" points=\"365,-0.5 365,-46.5 \" stroke=\"black\"/>\n",
       "<text font-family=\"Times New Roman,serif\" font-size=\"14.00\" text-anchor=\"middle\" x=\"393\" y=\"-31.3\">input:</text>\n",
       "<polyline fill=\"none\" points=\"365,-23.5 421,-23.5 \" stroke=\"black\"/>\n",
       "<text font-family=\"Times New Roman,serif\" font-size=\"14.00\" text-anchor=\"middle\" x=\"393\" y=\"-8.3\">output:</text>\n",
       "<polyline fill=\"none\" points=\"421,-0.5 421,-46.5 \" stroke=\"black\"/>\n",
       "<text font-family=\"Times New Roman,serif\" font-size=\"14.00\" text-anchor=\"middle\" x=\"462.5\" y=\"-31.3\">(None, 500)</text>\n",
       "<polyline fill=\"none\" points=\"421,-23.5 504,-23.5 \" stroke=\"black\"/>\n",
       "<text font-family=\"Times New Roman,serif\" font-size=\"14.00\" text-anchor=\"middle\" x=\"462.5\" y=\"-8.3\">(None, 11)</text>\n",
       "</g>\n",
       "<!-- 1689117033192&#45;&gt;1689113336352 -->\n",
       "<g class=\"edge\" id=\"edge11\"><title>1689117033192-&gt;1689113336352</title>\n",
       "<path d=\"M572.525,-83.4734C538.72,-72.9822 498.133,-60.3862 463.164,-49.5337\" fill=\"none\" stroke=\"black\"/>\n",
       "<polygon fill=\"black\" points=\"464.049,-46.1436 453.461,-46.5222 461.974,-52.829 464.049,-46.1436\" stroke=\"black\"/>\n",
       "</g>\n",
       "<!-- 1689113504008 -->\n",
       "<g class=\"node\" id=\"node13\"><title>1689113504008</title>\n",
       "<polygon fill=\"none\" points=\"522,-0.5 522,-46.5 765,-46.5 765,-0.5 522,-0.5\" stroke=\"black\"/>\n",
       "<text font-family=\"Times New Roman,serif\" font-size=\"14.00\" text-anchor=\"middle\" x=\"574\" y=\"-19.8\">dense_3: Dense</text>\n",
       "<polyline fill=\"none\" points=\"626,-0.5 626,-46.5 \" stroke=\"black\"/>\n",
       "<text font-family=\"Times New Roman,serif\" font-size=\"14.00\" text-anchor=\"middle\" x=\"654\" y=\"-31.3\">input:</text>\n",
       "<polyline fill=\"none\" points=\"626,-23.5 682,-23.5 \" stroke=\"black\"/>\n",
       "<text font-family=\"Times New Roman,serif\" font-size=\"14.00\" text-anchor=\"middle\" x=\"654\" y=\"-8.3\">output:</text>\n",
       "<polyline fill=\"none\" points=\"682,-0.5 682,-46.5 \" stroke=\"black\"/>\n",
       "<text font-family=\"Times New Roman,serif\" font-size=\"14.00\" text-anchor=\"middle\" x=\"723.5\" y=\"-31.3\">(None, 500)</text>\n",
       "<polyline fill=\"none\" points=\"682,-23.5 765,-23.5 \" stroke=\"black\"/>\n",
       "<text font-family=\"Times New Roman,serif\" font-size=\"14.00\" text-anchor=\"middle\" x=\"723.5\" y=\"-8.3\">(None, 11)</text>\n",
       "</g>\n",
       "<!-- 1689117033192&#45;&gt;1689113504008 -->\n",
       "<g class=\"edge\" id=\"edge12\"><title>1689117033192-&gt;1689113504008</title>\n",
       "<path d=\"M643.5,-83.3664C643.5,-75.1516 643.5,-65.6579 643.5,-56.7252\" fill=\"none\" stroke=\"black\"/>\n",
       "<polygon fill=\"black\" points=\"647,-56.6068 643.5,-46.6068 640,-56.6069 647,-56.6068\" stroke=\"black\"/>\n",
       "</g>\n",
       "<!-- 1689113115504 -->\n",
       "<g class=\"node\" id=\"node14\"><title>1689113115504</title>\n",
       "<polygon fill=\"none\" points=\"783,-0.5 783,-46.5 1026,-46.5 1026,-0.5 783,-0.5\" stroke=\"black\"/>\n",
       "<text font-family=\"Times New Roman,serif\" font-size=\"14.00\" text-anchor=\"middle\" x=\"835\" y=\"-19.8\">dense_4: Dense</text>\n",
       "<polyline fill=\"none\" points=\"887,-0.5 887,-46.5 \" stroke=\"black\"/>\n",
       "<text font-family=\"Times New Roman,serif\" font-size=\"14.00\" text-anchor=\"middle\" x=\"915\" y=\"-31.3\">input:</text>\n",
       "<polyline fill=\"none\" points=\"887,-23.5 943,-23.5 \" stroke=\"black\"/>\n",
       "<text font-family=\"Times New Roman,serif\" font-size=\"14.00\" text-anchor=\"middle\" x=\"915\" y=\"-8.3\">output:</text>\n",
       "<polyline fill=\"none\" points=\"943,-0.5 943,-46.5 \" stroke=\"black\"/>\n",
       "<text font-family=\"Times New Roman,serif\" font-size=\"14.00\" text-anchor=\"middle\" x=\"984.5\" y=\"-31.3\">(None, 500)</text>\n",
       "<polyline fill=\"none\" points=\"943,-23.5 1026,-23.5 \" stroke=\"black\"/>\n",
       "<text font-family=\"Times New Roman,serif\" font-size=\"14.00\" text-anchor=\"middle\" x=\"984.5\" y=\"-8.3\">(None, 11)</text>\n",
       "</g>\n",
       "<!-- 1689117033192&#45;&gt;1689113115504 -->\n",
       "<g class=\"edge\" id=\"edge13\"><title>1689117033192-&gt;1689113115504</title>\n",
       "<path d=\"M714.475,-83.4734C748.28,-72.9822 788.867,-60.3862 823.836,-49.5337\" fill=\"none\" stroke=\"black\"/>\n",
       "<polygon fill=\"black\" points=\"825.026,-52.829 833.539,-46.5222 822.951,-46.1436 825.026,-52.829\" stroke=\"black\"/>\n",
       "</g>\n",
       "<!-- 1689112842872 -->\n",
       "<g class=\"node\" id=\"node15\"><title>1689112842872</title>\n",
       "<polygon fill=\"none\" points=\"1044,-0.5 1044,-46.5 1287,-46.5 1287,-0.5 1044,-0.5\" stroke=\"black\"/>\n",
       "<text font-family=\"Times New Roman,serif\" font-size=\"14.00\" text-anchor=\"middle\" x=\"1096\" y=\"-19.8\">dense_5: Dense</text>\n",
       "<polyline fill=\"none\" points=\"1148,-0.5 1148,-46.5 \" stroke=\"black\"/>\n",
       "<text font-family=\"Times New Roman,serif\" font-size=\"14.00\" text-anchor=\"middle\" x=\"1176\" y=\"-31.3\">input:</text>\n",
       "<polyline fill=\"none\" points=\"1148,-23.5 1204,-23.5 \" stroke=\"black\"/>\n",
       "<text font-family=\"Times New Roman,serif\" font-size=\"14.00\" text-anchor=\"middle\" x=\"1176\" y=\"-8.3\">output:</text>\n",
       "<polyline fill=\"none\" points=\"1204,-0.5 1204,-46.5 \" stroke=\"black\"/>\n",
       "<text font-family=\"Times New Roman,serif\" font-size=\"14.00\" text-anchor=\"middle\" x=\"1245.5\" y=\"-31.3\">(None, 500)</text>\n",
       "<polyline fill=\"none\" points=\"1204,-23.5 1287,-23.5 \" stroke=\"black\"/>\n",
       "<text font-family=\"Times New Roman,serif\" font-size=\"14.00\" text-anchor=\"middle\" x=\"1245.5\" y=\"-8.3\">(None, 11)</text>\n",
       "</g>\n",
       "<!-- 1689117033192&#45;&gt;1689112842872 -->\n",
       "<g class=\"edge\" id=\"edge14\"><title>1689117033192-&gt;1689112842872</title>\n",
       "<path d=\"M778.326,-86.1687C851.328,-75.5106 943.343,-61.7703 1033.84,-47.2544\" fill=\"none\" stroke=\"black\"/>\n",
       "<polygon fill=\"black\" points=\"1034.41,-50.7081 1043.73,-45.6647 1033.3,-43.7969 1034.41,-50.7081\" stroke=\"black\"/>\n",
       "</g>\n",
       "</g>\n",
       "</svg>"
      ],
      "text/plain": [
       "<IPython.core.display.SVG object>"
      ]
     },
     "execution_count": 9,
     "metadata": {},
     "output_type": "execute_result"
    }
   ],
   "source": [
    "from keras.utils.vis_utils import plot_model, model_to_dot\n",
    "from IPython.display import Image, SVG\n",
    "\n",
    "# TODO: 可视化你的模型\n",
    "SVG(model_to_dot(model,show_shapes=True).create(prog='dot', format='svg'))"
   ]
  },
  {
   "cell_type": "markdown",
   "metadata": {},
   "source": [
    "### 问题 3\n",
    "_你最终的模型架构是什么样的？（什么类型的模型，层数，大小, 如何连接等）_\n",
    "\n",
    "**回答：**  \n",
    "模型构架参考了\n",
    "[VGG16](https://github.com/fchollet/keras/blob/master/keras/applications/vgg16.py)\n",
    "的结构来设置,使用keras搭建模型采用了\n",
    "[泛型模型](http://keras-cn.readthedocs.io/en/latest/models/model/)，\n",
    "总共11层，4层conv，2层maxpooling，1层dense，1层input，1层flatten，1层fullconnect和1层dropout)  \n",
    "  \n",
    "第一层input shape为(-1,28,140,1),  \n",
    "\n",
    "第一块  \n",
    "第一层对input使用3x3卷积，depth为64，输出shape为(-1,28,140,64)，    \n",
    "第二层对block1_conv1使用3×3卷积，depth为64，输出shape为(-1,28,140,64)，  \n",
    "第三层对block1_conv2使用2x2的strides为2的maxpooling，输出shape变为(-1,14,70,64)，  \n",
    "\n",
    "第二块   \n",
    "第一层对block1_pool使用3×3卷积，depth为128，输出shape变为(-1,14,70,128)，  \n",
    "第二层对block2_conv1使用3×3卷积，depth为128，输出shape变为（-1,14,70,128），    \n",
    "第三层对block2_conv2使用2x2 的strides为2的maxpooling，输出shape变为(-1,7,35,128)，   \n",
    "    \n",
    "flatten后展平为(-1,7×35×128)  \n",
    "经过全连接层，weight的shape是（7×35×128，500），一般写做（31360，500）    \n",
    "然后dropout 0.5，      \n",
    "最后经过5个dense输出5个shape为(-1,11)的二值化数字。\n",
    "\n"
   ]
  },
  {
   "cell_type": "markdown",
   "metadata": {},
   "source": [
    "### 练习：训练你的网络模型\n",
    "\n",
    "训练你的模型时，需要设置训练集和验证集。"
   ]
  },
  {
   "cell_type": "code",
   "execution_count": 10,
   "metadata": {
    "collapsed": true
   },
   "outputs": [],
   "source": [
    "batch_size = 32\n",
    "epochs = 10"
   ]
  },
  {
   "cell_type": "code",
   "execution_count": 11,
   "metadata": {},
   "outputs": [
    {
     "name": "stdout",
     "output_type": "stream",
     "text": [
      "Train on 9600 samples, validate on 2400 samples\n",
      "Epoch 1/10\n",
      "9600/9600 [==============================] - 908s - loss: 3.0858 - dense_1_loss: 0.7641 - dense_2_loss: 0.7309 - dense_3_loss: 0.6535 - dense_4_loss: 0.5495 - dense_5_loss: 0.3878 - dense_1_acc: 0.7406 - dense_2_acc: 0.7633 - dense_3_acc: 0.7853 - dense_4_acc: 0.8296 - dense_5_acc: 0.8859 - val_loss: 0.6045 - val_dense_1_loss: 0.1569 - val_dense_2_loss: 0.1372 - val_dense_3_loss: 0.1182 - val_dense_4_loss: 0.1105 - val_dense_5_loss: 0.0817 - val_dense_1_acc: 0.9525 - val_dense_2_acc: 0.9608 - val_dense_3_acc: 0.9696 - val_dense_4_acc: 0.9708 - val_dense_5_acc: 0.9750\n",
      "Epoch 2/10\n",
      "9600/9600 [==============================] - 879s - loss: 0.9643 - dense_1_loss: 0.2224 - dense_2_loss: 0.2234 - dense_3_loss: 0.2081 - dense_4_loss: 0.1806 - dense_5_loss: 0.1298 - dense_1_acc: 0.9286 - dense_2_acc: 0.9295 - dense_3_acc: 0.9305 - dense_4_acc: 0.9428 - dense_5_acc: 0.9581 - val_loss: 0.3878 - val_dense_1_loss: 0.1240 - val_dense_2_loss: 0.0864 - val_dense_3_loss: 0.0672 - val_dense_4_loss: 0.0643 - val_dense_5_loss: 0.0458 - val_dense_1_acc: 0.9604 - val_dense_2_acc: 0.9767 - val_dense_3_acc: 0.9792 - val_dense_4_acc: 0.9804 - val_dense_5_acc: 0.9854\n",
      "Epoch 3/10\n",
      "9600/9600 [==============================] - 875s - loss: 0.6196 - dense_1_loss: 0.1522 - dense_2_loss: 0.1358 - dense_3_loss: 0.1339 - dense_4_loss: 0.1186 - dense_5_loss: 0.0790 - dense_1_acc: 0.9488 - dense_2_acc: 0.9566 - dense_3_acc: 0.9568 - dense_4_acc: 0.9615 - dense_5_acc: 0.9741 - val_loss: 0.3556 - val_dense_1_loss: 0.1134 - val_dense_2_loss: 0.0746 - val_dense_3_loss: 0.0619 - val_dense_4_loss: 0.0632 - val_dense_5_loss: 0.0426 - val_dense_1_acc: 0.9646 - val_dense_2_acc: 0.9796 - val_dense_3_acc: 0.9804 - val_dense_4_acc: 0.9800 - val_dense_5_acc: 0.9879\n",
      "Epoch 4/10\n",
      "9600/9600 [==============================] - 875s - loss: 0.4701 - dense_1_loss: 0.1082 - dense_2_loss: 0.1049 - dense_3_loss: 0.1041 - dense_4_loss: 0.0918 - dense_5_loss: 0.0611 - dense_1_acc: 0.9644 - dense_2_acc: 0.9652 - dense_3_acc: 0.9670 - dense_4_acc: 0.9706 - dense_5_acc: 0.9797 - val_loss: 0.3512 - val_dense_1_loss: 0.1251 - val_dense_2_loss: 0.0759 - val_dense_3_loss: 0.0553 - val_dense_4_loss: 0.0584 - val_dense_5_loss: 0.0366 - val_dense_1_acc: 0.9654 - val_dense_2_acc: 0.9792 - val_dense_3_acc: 0.9821 - val_dense_4_acc: 0.9817 - val_dense_5_acc: 0.9900\n",
      "Epoch 5/10\n",
      "9600/9600 [==============================] - 876s - loss: 0.3852 - dense_1_loss: 0.0934 - dense_2_loss: 0.0856 - dense_3_loss: 0.0795 - dense_4_loss: 0.0729 - dense_5_loss: 0.0538 - dense_1_acc: 0.9682 - dense_2_acc: 0.9706 - dense_3_acc: 0.9734 - dense_4_acc: 0.9774 - dense_5_acc: 0.9828 - val_loss: 0.2861 - val_dense_1_loss: 0.0882 - val_dense_2_loss: 0.0707 - val_dense_3_loss: 0.0442 - val_dense_4_loss: 0.0461 - val_dense_5_loss: 0.0369 - val_dense_1_acc: 0.9746 - val_dense_2_acc: 0.9800 - val_dense_3_acc: 0.9829 - val_dense_4_acc: 0.9846 - val_dense_5_acc: 0.9896\n",
      "Epoch 6/10\n",
      "9600/9600 [==============================] - 876s - loss: 0.3262 - dense_1_loss: 0.0776 - dense_2_loss: 0.0778 - dense_3_loss: 0.0682 - dense_4_loss: 0.0581 - dense_5_loss: 0.0445 - dense_1_acc: 0.9738 - dense_2_acc: 0.9761 - dense_3_acc: 0.9762 - dense_4_acc: 0.9799 - dense_5_acc: 0.9842 - val_loss: 0.3170 - val_dense_1_loss: 0.1076 - val_dense_2_loss: 0.0682 - val_dense_3_loss: 0.0484 - val_dense_4_loss: 0.0493 - val_dense_5_loss: 0.0435 - val_dense_1_acc: 0.9725 - val_dense_2_acc: 0.9829 - val_dense_3_acc: 0.9842 - val_dense_4_acc: 0.9850 - val_dense_5_acc: 0.9888\n",
      "Epoch 7/10\n",
      "9600/9600 [==============================] - 875s - loss: 0.2938 - dense_1_loss: 0.0733 - dense_2_loss: 0.0662 - dense_3_loss: 0.0570 - dense_4_loss: 0.0552 - dense_5_loss: 0.0421 - dense_1_acc: 0.9761 - dense_2_acc: 0.9783 - dense_3_acc: 0.9809 - dense_4_acc: 0.9835 - dense_5_acc: 0.9866 - val_loss: 0.2711 - val_dense_1_loss: 0.1028 - val_dense_2_loss: 0.0563 - val_dense_3_loss: 0.0403 - val_dense_4_loss: 0.0414 - val_dense_5_loss: 0.0303 - val_dense_1_acc: 0.9721 - val_dense_2_acc: 0.9871 - val_dense_3_acc: 0.9862 - val_dense_4_acc: 0.9883 - val_dense_5_acc: 0.9912\n",
      "Epoch 8/10\n",
      "9600/9600 [==============================] - 874s - loss: 0.2470 - dense_1_loss: 0.0585 - dense_2_loss: 0.0526 - dense_3_loss: 0.0571 - dense_4_loss: 0.0449 - dense_5_loss: 0.0339 - dense_1_acc: 0.9796 - dense_2_acc: 0.9823 - dense_3_acc: 0.9817 - dense_4_acc: 0.9850 - dense_5_acc: 0.9883 - val_loss: 0.2962 - val_dense_1_loss: 0.1077 - val_dense_2_loss: 0.0663 - val_dense_3_loss: 0.0407 - val_dense_4_loss: 0.0440 - val_dense_5_loss: 0.0375 - val_dense_1_acc: 0.9729 - val_dense_2_acc: 0.9854 - val_dense_3_acc: 0.9875 - val_dense_4_acc: 0.9879 - val_dense_5_acc: 0.9892\n",
      "Epoch 9/10\n",
      "9600/9600 [==============================] - 878s - loss: 0.2422 - dense_1_loss: 0.0540 - dense_2_loss: 0.0560 - dense_3_loss: 0.0545 - dense_4_loss: 0.0459 - dense_5_loss: 0.0318 - dense_1_acc: 0.9826 - dense_2_acc: 0.9805 - dense_3_acc: 0.9816 - dense_4_acc: 0.9856 - dense_5_acc: 0.9892 - val_loss: 0.2812 - val_dense_1_loss: 0.0868 - val_dense_2_loss: 0.0665 - val_dense_3_loss: 0.0423 - val_dense_4_loss: 0.0478 - val_dense_5_loss: 0.0378 - val_dense_1_acc: 0.9729 - val_dense_2_acc: 0.9817 - val_dense_3_acc: 0.9867 - val_dense_4_acc: 0.9829 - val_dense_5_acc: 0.9912\n",
      "Epoch 10/10\n",
      "9600/9600 [==============================] - 880s - loss: 0.2200 - dense_1_loss: 0.0482 - dense_2_loss: 0.0414 - dense_3_loss: 0.0469 - dense_4_loss: 0.0474 - dense_5_loss: 0.0361 - dense_1_acc: 0.9832 - dense_2_acc: 0.9867 - dense_3_acc: 0.9844 - dense_4_acc: 0.9854 - dense_5_acc: 0.9882 - val_loss: 0.2637 - val_dense_1_loss: 0.0887 - val_dense_2_loss: 0.0511 - val_dense_3_loss: 0.0517 - val_dense_4_loss: 0.0339 - val_dense_5_loss: 0.0382 - val_dense_1_acc: 0.9771 - val_dense_2_acc: 0.9842 - val_dense_3_acc: 0.9862 - val_dense_4_acc: 0.9888 - val_dense_5_acc: 0.9896\n"
     ]
    }
   ],
   "source": [
    "# TODO: 训练你的模型\n",
    "'''\n",
    "配置模型的学习过程\n",
    "compile接收三个参数：\n",
    "1.优化器optimizer：参数可指定为已预定义的优化器名，如rmsprop、adagrad，\n",
    "或一个Optimizer类对象，如此处的RMSprop()\n",
    "2.损失函数loss：参数为模型试图最小化的目标函数，可为预定义的损失函数，\n",
    "如categorical_crossentropy、mse，也可以为一个损失函数\n",
    "3.指标列表：对于分类问题，一般将该列表设置为metrics=['accuracy']\n",
    "'''\n",
    "model.compile(loss='categorical_crossentropy',\n",
    "             optimizer = 'adam',# rmsprop为什么不采用？\n",
    "             metrics = ['accuracy'])\n",
    "'''\n",
    "训练模型\n",
    "batch_size：指定梯度下降时每个batch包含的样本数\n",
    "epochs：训练的轮数\n",
    "verbose：日志显示，0为不在标准输出流输出日志信息，1为输出进度条记录，2为epoch输出一行记录\n",
    "validation_data：指定验证集\n",
    "fit函数返回一个History的对象，其History.history属性记录了损失函数和其他指标的数值随epoch变化的情况，\n",
    "如果有验证集的话，也包含了验证集的这些指标变化情况\n",
    "'''\n",
    "history = model.fit(X_train, y_train,\n",
    "                   batch_size=batch_size,\n",
    "                   epochs=epochs,\n",
    "                   verbose=1,\n",
    "                   validation_data = (X_valid, y_valid))\n",
    "# 按batch计算在某些输入数据上模型的误差\n"
   ]
  },
  {
   "cell_type": "code",
   "execution_count": 12,
   "metadata": {
    "collapsed": true
   },
   "outputs": [],
   "source": [
    "score = model.evaluate(X_test,y_test,verbose=0)"
   ]
  },
  {
   "cell_type": "code",
   "execution_count": 13,
   "metadata": {},
   "outputs": [
    {
     "name": "stdout",
     "output_type": "stream",
     "text": [
      "Test score: 0.201292927702\n",
      "Test accuracy: 0.052258036474\n"
     ]
    }
   ],
   "source": [
    "print('Test score:',score[0])\n",
    "print('Test accuracy:',score[1])"
   ]
  },
  {
   "cell_type": "markdown",
   "metadata": {},
   "source": [
    "### 预测值可视化\n",
    "\n",
    "我们将模型的预测结果和真实值画出来，观察真实效果。"
   ]
  },
  {
   "cell_type": "code",
   "execution_count": 15,
   "metadata": {},
   "outputs": [
    {
     "data": {
      "text/plain": [
       "(-0.5, 139.5, 27.5, -0.5)"
      ]
     },
     "execution_count": 15,
     "metadata": {},
     "output_type": "execute_result"
    },
    {
     "data": {
      "image/png": "[encoded data removed]",
      "text/plain": [
       "<matplotlib.figure.Figure at 0x18946e49a90>"
      ]
     },
     "metadata": {
      "image/png": {
       "height": 127,
       "width": 370
      }
     },
     "output_type": "display_data"
    }
   ],
   "source": [
    "def get_result(result):\n",
    "    # 将 one_hot 编码解码\n",
    "    resultstr = ''\n",
    "    for i in range(n_len):\n",
    "        resultstr += str(np.argmax(result[i])) + ','\n",
    "    return resultstr\n",
    "\n",
    "index = random.randint(0, n_test-1)\n",
    "y_pred = model.predict(X_test[index].reshape(1, height, width*n_len, 1))\n",
    "\n",
    "plt.title('real: %s\\npred:%s'%(get_result([y_test[x][index] for x in range(n_len)]), get_result(y_pred)))\n",
    "plt.imshow(X_test[index,:,:,0], cmap='gray')\n",
    "plt.axis('off')"
   ]
  },
  {
   "cell_type": "markdown",
   "metadata": {},
   "source": [
    "### 练习：计算你的模型准确率\n",
    "\n",
    "我们刚才得到了模型每个数字的准确率，现在让我们来计算整体准确率，按照完全预测正确数字序列的标准来计算。\n",
    "\n",
    "比如 1,2,3,10,10 预测成了 1,2,10,10,10 算错，而不是算对了80%。"
   ]
  },
  {
   "cell_type": "code",
   "execution_count": 23,
   "metadata": {},
   "outputs": [
    {
     "data": {
      "text/plain": [
       "0.9437"
      ]
     },
     "execution_count": 23,
     "metadata": {},
     "output_type": "execute_result"
    }
   ],
   "source": [
    "def evaluate(model):\n",
    "    # TODO: 按照错一个就算错的规则计算准确率\n",
    "    right = 0\n",
    "    # error = 0\n",
    "    for index in range(X_test.shape[0]):\n",
    "        y_pred = model.predict(X_test[index].reshape(1,height,width*n_len,1))\n",
    "        if get_result(y_pred) == get_result([y_test[x][index] for x in range(n_len)]):\n",
    "            right += 1\n",
    "    return float (right)/(X_test.shape[0])\n",
    "evaluate(model)"
   ]
  },
  {
   "cell_type": "code",
   "execution_count": null,
   "metadata": {
    "collapsed": true
   },
   "outputs": [],
   "source": [
    "y_pred = model.predict(X_test, batch_size=128, verbose=1)\n",
    "pred = np.argmax(y_pred, axis=-1)#axis的值只能取0或1，此处给定-1不太理解是什么意思。\n",
    "test = np.argmax(y_test, axis=-1)\n",
    "accuracy = np.all((pred==test), axis=0).mean()"
   ]
  },
  {
   "cell_type": "markdown",
   "metadata": {},
   "source": [
    "### 问题 4\n",
    "\n",
    "_你的模型准确率有多少？你觉得你的模型足以解决问题吗？_\n",
    "\n",
    "**回答：**  \n",
    "模型的准确率为：94.37%；我觉得模型准确率基本满足解决问题。"
   ]
  },
  {
   "cell_type": "markdown",
   "metadata": {},
   "source": [
    "### 保存模型\n",
    "\n",
    "模型达到满意的效果以后，我们需要将模型的权值和结构保存，以便下次调用。"
   ]
  },
  {
   "cell_type": "code",
   "execution_count": 24,
   "metadata": {
    "collapsed": true
   },
   "outputs": [],
   "source": [
    "model.save_weights('model.h5')\n",
    "with open('model.json', 'w') as f:\n",
    "    f.write(model.to_json())"
   ]
  },
  {
   "cell_type": "markdown",
   "metadata": {},
   "source": [
    "# reference"
   ]
  },
  {
   "cell_type": "markdown",
   "metadata": {},
   "source": [
    "1、本项目代码及部分思路参考了知乎用户**不想当博士的学生不是好工程师**公开的专栏文章[搭建一个数字识别项目](https://zhuanlan.zhihu.com/p/27547143),在此声明。  \n",
    "2、[【Keras案例学习】 多层感知机做手写字符分类（mnist_mlp ）](http://www.cnblogs.com/surfzjy/p/6419201.html)  \n",
    "3、[keras中文文档](https://keras-cn.readthedocs.io/en/latest/getting_started/sequential_model/)  \n",
    "4、[Deep Learning模型之：CNN卷积神经网络（一）深度解析CNN](http://www.cnblogs.com/nsnow/p/4562363.html)  \n",
    "5、[深度学习最全优化方法总结比较](https://zhuanlan.zhihu.com/p/22252270) "
   ]
  },
  {
   "cell_type": "markdown",
   "metadata": {},
   "source": [
    "#### 写在文末的收获：  \n",
    "本项目卡自己卡了蛮久了，在做这个项目的过程中暴露出了自己很多方面的问题，首先就是对卷积图像处理使用的技术卷积神经网络（CNN）的一些基本概念不清楚，导致自己做项目做的稀里糊涂的，发生了以下一些问题：  \n",
    "1、模型运行时间超级长，整个运行完，一共花了两天两夜  \n",
    "2、模型不收敛，导致最后做出来的预测就是乱七八糟的，完全不对  \n",
    "3、模型运行时的epoch结果不会看，导致第一轮的loss跟第二轮大约相等时，自己发现不了问题，仍旧等着模型运行 ，白白浪费时间 \n",
    "4、自己对每一层中可调节的参数的总数目理解是错的，认为pooling层也能调节参数，实际上是不能的  \n",
    "5、对inputs的图像的shape理解错误，不知道该写成什么形式传进模型中  \n",
    "现在经过佳璐同学的指导，自己明白了一些最基础的问题的解决方法：\n",
    "1、模型运行时间长的原因是batch_size定的太大了（1600），导致机器花费过多的时间在数据的调用存储等处理上，后来改用了batch_size（32），情况好了很多，同时参考review导师提供的[深度机器学习中的batch的大小对学习效果有何影响](https://www.zhihu.com/question/32673260),明白了batch_size的选择要适当，不能过大，也不能过小，虽然越大，训练出的精度越高，但是机器配置不足会影响时间效率，可以在机器允许的范围内选择大的batch_size  \n",
    "2、模型不收敛，解决办法是：  \n",
    "- 1、把数据集缩小了，方便快速完成模型实验\n",
    "- 2、对数据集进行了归一化\n",
    "- 3、把模型中的网络改小了，从把隐藏层中的block4层改成了2层\n",
    "- 4、添加上了全连接层，参数设置为了500[全连接层的作用是什么](https://www.zhihu.com/question/41037974)\n",
    "- 5，改小了batch_size,从256改为32  \n",
    "  后续会测试不收敛到底是缺失了fullconnect，还是数据集没有进行归一化导致的\n",
    "  \n",
    "3、epoch在第一轮训练完进入第二轮后，loss会有一个巨大的减小，如果没有减小，那就肯定是算法错误了，可以停掉改错误，不用等模型训练完毕  "
   ]
  },
  {
   "cell_type": "markdown",
   "metadata": {},
   "source": [
    "#  未解决的问题"
   ]
  },
  {
   "cell_type": "markdown",
   "metadata": {
    "collapsed": true
   },
   "source": [
    "# 下边是我aws的配置过程，从头配置 "
   ]
  },
  {
   "cell_type": "markdown",
   "metadata": {},
   "source": [
    "**写在开始的一些声明**：  \n",
    "我的系统为Windows10，ssh选用了putty  \n",
    "由于为了学习YouTube视频及使用Google，自己开了shadowsock：  \n",
    "![image.png](http://ow1qag7ew.bkt.clouddn.com/17-9-12/11914040.jpg)   \n",
    "不知道这个ip地址会不会对连接服务器产生影响"
   ]
  },
  {
   "cell_type": "markdown",
   "metadata": {},
   "source": [
    "### 下边我按照[在AWS上配置深度学习主机](https://zhuanlan.zhihu.com/p/25066187)的步骤重新配置一遍"
   ]
  },
  {
   "cell_type": "markdown",
   "metadata": {},
   "source": [
    " ###  填写工单  \n",
    "由于P.xlarge是收费的，所以本处选择了免费的t2.micro类型"
   ]
  },
  {
   "cell_type": "markdown",
   "metadata": {},
   "source": [
    "![img](http://ow1qag7ew.bkt.clouddn.com/17-9-12/8126403.jpg)"
   ]
  },
  {
   "cell_type": "markdown",
   "metadata": {},
   "source": [
    "###  结果"
   ]
  },
  {
   "cell_type": "markdown",
   "metadata": {},
   "source": [
    "![img](http://ow1qag7ew.bkt.clouddn.com/17-9-12/70198817.jpg)"
   ]
  },
  {
   "cell_type": "markdown",
   "metadata": {},
   "source": [
    "![img](http://ow1qag7ew.bkt.clouddn.com/17-9-12/62641703.jpg)"
   ]
  },
  {
   "cell_type": "markdown",
   "metadata": {},
   "source": [
    "###  开启实例"
   ]
  },
  {
   "cell_type": "markdown",
   "metadata": {},
   "source": [
    "![img](http://ow1qag7ew.bkt.clouddn.com/17-9-12/98552522.jpg)"
   ]
  },
  {
   "cell_type": "markdown",
   "metadata": {},
   "source": [
    "###  其余按照步骤默认设置，到配置安全组"
   ]
  },
  {
   "cell_type": "markdown",
   "metadata": {},
   "source": [
    "![img](http://ow1qag7ew.bkt.clouddn.com/17-9-12/60066278.jpg)"
   ]
  },
  {
   "cell_type": "markdown",
   "metadata": {},
   "source": [
    "![img](http://ow1qag7ew.bkt.clouddn.com/17-9-12/62641703.jpg)"
   ]
  },
  {
   "cell_type": "markdown",
   "metadata": {},
   "source": [
    "###  加载密钥之后，开启实例"
   ]
  },
  {
   "cell_type": "markdown",
   "metadata": {},
   "source": [
    "![img](http://ow1qag7ew.bkt.clouddn.com/17-9-12/65077256.jpg)"
   ]
  },
  {
   "cell_type": "markdown",
   "metadata": {},
   "source": [
    "###  使用putty做ssh"
   ]
  },
  {
   "cell_type": "markdown",
   "metadata": {},
   "source": [
    "![img](http://ow1qag7ew.bkt.clouddn.com/17-9-12/3939150.jpg)"
   ]
  },
  {
   "cell_type": "markdown",
   "metadata": {},
   "source": [
    "###  通过ssh登陆"
   ]
  },
  {
   "cell_type": "markdown",
   "metadata": {},
   "source": [
    "![img](http://ow1qag7ew.bkt.clouddn.com/17-9-12/74262911.jpg)"
   ]
  },
  {
   "cell_type": "markdown",
   "metadata": {},
   "source": [
    "![img](http://ow1qag7ew.bkt.clouddn.com/17-9-12/4892044.jpg)"
   ]
  },
  {
   "cell_type": "markdown",
   "metadata": {},
   "source": [
    "最终效果，成功了！"
   ]
  },
  {
   "cell_type": "markdown",
   "metadata": {},
   "source": [
    "![img](http://ow1qag7ew.bkt.clouddn.com/17-9-12/62046993.jpg)"
   ]
  }
 ],
 "metadata": {
  "anaconda-cloud": {},
  "kernelspec": {
   "display_name": "Python 3",
   "language": "python",
   "name": "python3"
  },
  "language_info": {
   "codemirror_mode": {
    "name": "ipython",
    "version": 3
   },
   "file_extension": ".py",
   "mimetype": "text/x-python",
   "name": "python",
   "nbconvert_exporter": "python",
   "pygments_lexer": "ipython3",
   "version": "3.5.2"
  }
 },
 "nbformat": 4,
 "nbformat_minor": 1
}
